{
 "cells": [
  {
   "cell_type": "code",
   "execution_count": 1,
   "metadata": {
    "collapsed": true
   },
   "outputs": [],
   "source": [
    "import pandas as pd\n",
    "import matplotlib.pyplot as plt\n",
    "import squarify\n",
    "import numpy as np\n",
    "from scipy.stats import norm\n",
    "from sklearn.preprocessing import StandardScaler\n",
    "from scipy import stats\n",
    "from collections import Counter\n",
    "from sklearn import preprocessing\n",
    "from sklearn.preprocessing import Imputer\n",
    "\n",
    "import warnings\n",
    "warnings.filterwarnings(\"ignore\")"
   ]
  },
  {
   "cell_type": "code",
   "execution_count": 2,
   "metadata": {
    "collapsed": false
   },
   "outputs": [
    {
     "data": {
      "text/plain": [
       "(61670, 19)"
      ]
     },
     "execution_count": 2,
     "metadata": {},
     "output_type": "execute_result"
    }
   ],
   "source": [
    "# reads in GTD after preprocessing\n",
    "df_unknowns = pd.read_csv(\"gtd_unknowns_processed.csv\")\n",
    "df = pd.read_csv(\"gtd_processed.csv\")\n",
    "df.shape"
   ]
  },
  {
   "cell_type": "code",
   "execution_count": 3,
   "metadata": {
    "collapsed": false
   },
   "outputs": [
    {
     "data": {
      "text/plain": [
       "(5460, 3)"
      ]
     },
     "execution_count": 3,
     "metadata": {},
     "output_type": "execute_result"
    }
   ],
   "source": [
    "df_edu = pd.read_csv(\"education_index.csv\")\n",
    "\n",
    "df_edu = df_edu.drop(['HDI Rank'], axis=1)\n",
    "df_edu = pd.melt(df_edu, id_vars=['Country'], value_vars=['1990', '1991', '1992', '1993', '1994', '1995', '1996', '1997', '1998', '1999', '2000', '2001', '2002', '2003', '2004', '2005', '2006', '2007', '2008', '2009', '2010', '2010', '2011', '2012', '2013', '2014', '2015', '2016'], var_name='Year', value_name='education')\n",
    "\n",
    "df_edu.to_csv(\"edu_melted.csv\", encoding='utf-8', index=False)\n",
    "df_edu.shape"
   ]
  },
  {
   "cell_type": "code",
   "execution_count": 4,
   "metadata": {
    "collapsed": false
   },
   "outputs": [
    {
     "data": {
      "text/plain": [
       "(126575, 20)"
      ]
     },
     "execution_count": 4,
     "metadata": {},
     "output_type": "execute_result"
    }
   ],
   "source": [
    "df_edu = pd.read_csv(\"edu_melted.csv\")\n",
    "\n",
    "df_unknowns_merge = pd.merge(left=df_unknowns, right=df_edu, how='left', left_on=['iyear','country_txt'], right_on=['Year', 'Country'])\n",
    "df_unknowns_merge = df_unknowns_merge.drop(['Country', 'Year'], axis=1)\n",
    "df_unknowns_merge = df_unknowns_merge.drop_duplicates(subset='eventid')\n",
    "\n",
    "df_unknowns_merge['education'] = df_unknowns_merge['education'].convert_objects(convert_numeric=True)\n",
    "df_unknowns_merge['education'] = df_unknowns_merge.groupby('country').education.transform(lambda x: x.fillna(x.mean()))\n",
    "\n",
    "df_unknowns_merge.shape"
   ]
  },
  {
   "cell_type": "code",
   "execution_count": 5,
   "metadata": {
    "collapsed": false
   },
   "outputs": [
    {
     "data": {
      "text/plain": [
       "(61670, 20)"
      ]
     },
     "execution_count": 5,
     "metadata": {},
     "output_type": "execute_result"
    }
   ],
   "source": [
    "df_edu = pd.read_csv(\"edu_melted.csv\")\n",
    "\n",
    "df_merge = pd.merge(left=df, right=df_edu, how='left', left_on=['iyear','country_txt'], right_on=['Year', 'Country'])\n",
    "df_merge = df_merge.drop(['Country', 'Year'], axis=1)\n",
    "df_merge = df_merge.drop_duplicates(subset='eventid')\n",
    "\n",
    "df_merge['education'] = df_merge['education'].convert_objects(convert_numeric=True)\n",
    "df_merge['education'] = df_merge.groupby('country').education.transform(lambda x: x.fillna(x.mean()))\n",
    "\n",
    "df_merge.shape"
   ]
  },
  {
   "cell_type": "code",
   "execution_count": 6,
   "metadata": {
    "collapsed": false
   },
   "outputs": [
    {
     "data": {
      "text/html": [
       "<div>\n",
       "<table border=\"1\" class=\"dataframe\">\n",
       "  <thead>\n",
       "    <tr style=\"text-align: right;\">\n",
       "      <th></th>\n",
       "      <th>Country</th>\n",
       "      <th>Year</th>\n",
       "      <th>freedom</th>\n",
       "    </tr>\n",
       "  </thead>\n",
       "  <tbody>\n",
       "    <tr>\n",
       "      <th>0</th>\n",
       "      <td>Afghanistan</td>\n",
       "      <td>1990</td>\n",
       "      <td>7</td>\n",
       "    </tr>\n",
       "    <tr>\n",
       "      <th>1</th>\n",
       "      <td>Albania</td>\n",
       "      <td>1990</td>\n",
       "      <td>7</td>\n",
       "    </tr>\n",
       "    <tr>\n",
       "      <th>2</th>\n",
       "      <td>Algeria</td>\n",
       "      <td>1990</td>\n",
       "      <td>4</td>\n",
       "    </tr>\n",
       "  </tbody>\n",
       "</table>\n",
       "</div>"
      ],
      "text/plain": [
       "       Country  Year freedom\n",
       "0  Afghanistan  1990       7\n",
       "1      Albania  1990       7\n",
       "2      Algeria  1990       4"
      ]
     },
     "execution_count": 6,
     "metadata": {},
     "output_type": "execute_result"
    }
   ],
   "source": [
    "df_free = pd.read_csv(\"freedom_index.csv\")\n",
    "df_free = pd.melt(df_free, id_vars=['Country'], value_vars=['1990', '1991', '1992', '1993', '1994', '1995', '1996', '1997', '1998', '1999', '2000', '2001', '2002', '2003', '2004', '2005', '2006', '2007', '2008', '2009', '2010', '2010', '2011', '2012', '2013', '2014', '2015', '2016'], var_name='Year', value_name='freedom')\n",
    "\n",
    "df_free.to_csv(\"free_melted.csv\", encoding='utf-8', index=False)\n",
    "df_free.head(3)"
   ]
  },
  {
   "cell_type": "code",
   "execution_count": 8,
   "metadata": {
    "collapsed": false
   },
   "outputs": [
    {
     "data": {
      "text/plain": [
       "(126575, 21)"
      ]
     },
     "execution_count": 8,
     "metadata": {},
     "output_type": "execute_result"
    }
   ],
   "source": [
    "df_free = pd.read_csv(\"free_melted.csv\")\n",
    "\n",
    "df_unknowns_merge = pd.merge(left=df_unknowns_merge, right=df_free, how='left', left_on=['iyear','country_txt'], right_on=['Year', 'Country'])\n",
    "df_unknowns_merge = df_unknowns_merge.drop(['Country', 'Year'], axis=1)\n",
    "df_unknowns_merge = df_unknowns_merge.drop_duplicates(subset='eventid')\n",
    "\n",
    "df_unknowns_merge['freedom'] = df_unknowns_merge['freedom'].convert_objects(convert_numeric=True)\n",
    "df_unknowns_merge['freedom'] = df_unknowns_merge.groupby('country').freedom.transform(lambda x: x.fillna(x.mean()))\n",
    "\n",
    "df_unknowns_merge.shape"
   ]
  },
  {
   "cell_type": "code",
   "execution_count": 9,
   "metadata": {
    "collapsed": false
   },
   "outputs": [
    {
     "data": {
      "text/plain": [
       "(61670, 21)"
      ]
     },
     "execution_count": 9,
     "metadata": {},
     "output_type": "execute_result"
    }
   ],
   "source": [
    "df_free = pd.read_csv(\"free_melted.csv\")\n",
    "\n",
    "df_merge = pd.merge(left=df_merge, right=df_free, how='left', left_on=['iyear','country_txt'], right_on=['Year', 'Country'])\n",
    "df_merge = df_merge.drop(['Country', 'Year'], axis=1)\n",
    "df_merge = df_merge.drop_duplicates(subset='eventid')\n",
    "\n",
    "df_merge['freedom'] = df_merge['freedom'].convert_objects(convert_numeric=True)\n",
    "df_merge['freedom'] = df_merge.groupby('country').freedom.transform(lambda x: x.fillna(x.mean()))\n",
    "\n",
    "df_merge.shape"
   ]
  },
  {
   "cell_type": "code",
   "execution_count": 10,
   "metadata": {
    "collapsed": false
   },
   "outputs": [
    {
     "data": {
      "text/html": [
       "<div>\n",
       "<table border=\"1\" class=\"dataframe\">\n",
       "  <thead>\n",
       "    <tr style=\"text-align: right;\">\n",
       "      <th></th>\n",
       "      <th>Country</th>\n",
       "      <th>Year</th>\n",
       "      <th>gni_per_cap</th>\n",
       "    </tr>\n",
       "  </thead>\n",
       "  <tbody>\n",
       "    <tr>\n",
       "      <th>0</th>\n",
       "      <td>Aruba</td>\n",
       "      <td>1990</td>\n",
       "      <td>NaN</td>\n",
       "    </tr>\n",
       "    <tr>\n",
       "      <th>1</th>\n",
       "      <td>Afghanistan</td>\n",
       "      <td>1990</td>\n",
       "      <td>NaN</td>\n",
       "    </tr>\n",
       "    <tr>\n",
       "      <th>2</th>\n",
       "      <td>Angola</td>\n",
       "      <td>1990</td>\n",
       "      <td>2840.0</td>\n",
       "    </tr>\n",
       "  </tbody>\n",
       "</table>\n",
       "</div>"
      ],
      "text/plain": [
       "       Country  Year  gni_per_cap\n",
       "0        Aruba  1990          NaN\n",
       "1  Afghanistan  1990          NaN\n",
       "2       Angola  1990       2840.0"
      ]
     },
     "execution_count": 10,
     "metadata": {},
     "output_type": "execute_result"
    }
   ],
   "source": [
    "df_gni = pd.read_csv(\"gni_per_cap.csv\")\n",
    "\n",
    "df_gni = df_gni.drop(['Country Code', 'Indicator Name', 'Indicator Code'], axis=1)\n",
    "df_gni = pd.melt(df_gni, id_vars=['Country'], value_vars=['1990', '1991', '1992', '1993', '1994', '1995', '1996', '1997', '1998', '1999', '2000', '2001', '2002', '2003', '2004', '2005', '2006', '2007', '2008', '2009', '2010', '2010', '2011', '2012', '2013', '2014', '2015', '2016'], var_name='Year', value_name='gni_per_cap')\n",
    "\n",
    "df_gni.to_csv(\"gni_melted.csv\", encoding='utf-8', index=False)\n",
    "df_gni.head(3)"
   ]
  },
  {
   "cell_type": "code",
   "execution_count": 11,
   "metadata": {
    "collapsed": false
   },
   "outputs": [
    {
     "data": {
      "text/plain": [
       "(126575, 22)"
      ]
     },
     "execution_count": 11,
     "metadata": {},
     "output_type": "execute_result"
    }
   ],
   "source": [
    "df_gni = pd.read_csv(\"gni_melted.csv\")\n",
    "\n",
    "df_unknowns_merge = pd.merge(left=df_unknowns_merge, right=df_gni, how='left', left_on=['iyear','country_txt'], right_on=['Year', 'Country'])\n",
    "df_unknowns_merge = df_unknowns_merge.drop(['Country', 'Year'], axis=1)\n",
    "df_unknowns_merge = df_unknowns_merge.drop_duplicates(subset='eventid')\n",
    "\n",
    "df_unknowns_merge['gni_per_cap'] = df_unknowns_merge['gni_per_cap'].convert_objects(convert_numeric=True)\n",
    "df_unknowns_merge['gni_per_cap'] = df_unknowns_merge.groupby('country').gni_per_cap.transform(lambda x: x.fillna(x.mean()))\n",
    "df_unknowns_merge['gni_per_cap'] = df_unknowns_merge.groupby('iyear').gni_per_cap.transform(lambda x: x.fillna(x.mean()))\n",
    "\n",
    "df_unknowns_merge.shape"
   ]
  },
  {
   "cell_type": "code",
   "execution_count": 12,
   "metadata": {
    "collapsed": false
   },
   "outputs": [
    {
     "data": {
      "text/plain": [
       "(61670, 22)"
      ]
     },
     "execution_count": 12,
     "metadata": {},
     "output_type": "execute_result"
    }
   ],
   "source": [
    "df_gni = pd.read_csv(\"gni_melted.csv\")\n",
    "\n",
    "df_merge = pd.merge(left=df_merge, right=df_gni, how='left', left_on=['iyear','country_txt'], right_on=['Year', 'Country'])\n",
    "df_merge = df_merge.drop(['Country', 'Year'], axis=1)\n",
    "df_merge = df_merge.drop_duplicates(subset='eventid')\n",
    "\n",
    "df_merge['gni_per_cap'] = df_merge['gni_per_cap'].convert_objects(convert_numeric=True)\n",
    "df_merge['gni_per_cap'] = df_merge.groupby('country').gni_per_cap.transform(lambda x: x.fillna(x.mean()))\n",
    "df_merge['gni_per_cap'] = df_merge.groupby('iyear').gni_per_cap.transform(lambda x: x.fillna(x.mean()))\n",
    "\n",
    "df_merge.shape"
   ]
  },
  {
   "cell_type": "code",
   "execution_count": 13,
   "metadata": {
    "collapsed": false
   },
   "outputs": [
    {
     "data": {
      "text/html": [
       "<div>\n",
       "<table border=\"1\" class=\"dataframe\">\n",
       "  <thead>\n",
       "    <tr style=\"text-align: right;\">\n",
       "      <th></th>\n",
       "      <th>year</th>\n",
       "      <th>best_fatality_estimate</th>\n",
       "      <th>location</th>\n",
       "    </tr>\n",
       "  </thead>\n",
       "  <tbody>\n",
       "    <tr>\n",
       "      <th>0</th>\n",
       "      <td>1991</td>\n",
       "      <td>70</td>\n",
       "      <td>Haiti</td>\n",
       "    </tr>\n",
       "    <tr>\n",
       "      <th>1</th>\n",
       "      <td>1993</td>\n",
       "      <td>37</td>\n",
       "      <td>Haiti</td>\n",
       "    </tr>\n",
       "    <tr>\n",
       "      <th>2</th>\n",
       "      <td>1994</td>\n",
       "      <td>44</td>\n",
       "      <td>Haiti</td>\n",
       "    </tr>\n",
       "  </tbody>\n",
       "</table>\n",
       "</div>"
      ],
      "text/plain": [
       "   year  best_fatality_estimate location\n",
       "0  1991                      70    Haiti\n",
       "1  1993                      37    Haiti\n",
       "2  1994                      44    Haiti"
      ]
     },
     "execution_count": 13,
     "metadata": {},
     "output_type": "execute_result"
    }
   ],
   "source": [
    "df_gov_conf = pd.read_csv('gov_conflict.csv')\n",
    "df_gov_conf = df_gov_conf[['year', 'best_fatality_estimate', 'location']]\n",
    "\n",
    "df_gov_conf.head(3)"
   ]
  },
  {
   "cell_type": "code",
   "execution_count": 14,
   "metadata": {
    "collapsed": false
   },
   "outputs": [
    {
     "data": {
      "text/plain": [
       "(126575, 23)"
      ]
     },
     "execution_count": 14,
     "metadata": {},
     "output_type": "execute_result"
    }
   ],
   "source": [
    "df_unknowns_merge = pd.merge(left=df_unknowns_merge, right=df_gov_conf, how='left', left_on=['iyear', 'country_txt'], right_on=['year', 'location'])\n",
    "df_unknowns_merge = df_unknowns_merge.drop(['location', 'year'], axis=1)\n",
    "df_unknowns_merge = df_unknowns_merge.drop_duplicates(subset='eventid')\n",
    "\n",
    "df_unknowns_merge = df_unknowns_merge.fillna(value = {'best_fatality_estimate': 0})\n",
    "\n",
    "df_unknowns_merge.shape"
   ]
  },
  {
   "cell_type": "code",
   "execution_count": 15,
   "metadata": {
    "collapsed": false
   },
   "outputs": [
    {
     "data": {
      "text/plain": [
       "(61670, 23)"
      ]
     },
     "execution_count": 15,
     "metadata": {},
     "output_type": "execute_result"
    }
   ],
   "source": [
    "df_merge = pd.merge(left=df_merge, right=df_gov_conf, how='left', left_on=['iyear', 'country_txt'], right_on=['year', 'location'])\n",
    "df_merge = df_merge.drop(['location', 'year'], axis=1)\n",
    "df_merge = df_merge.drop_duplicates(subset='eventid')\n",
    "\n",
    "df_merge = df_merge.fillna(value = {'best_fatality_estimate': 0})\n",
    "\n",
    "df_merge.shape"
   ]
  },
  {
   "cell_type": "code",
   "execution_count": 16,
   "metadata": {
    "collapsed": false
   },
   "outputs": [
    {
     "data": {
      "text/html": [
       "<div>\n",
       "<table border=\"1\" class=\"dataframe\">\n",
       "  <thead>\n",
       "    <tr style=\"text-align: right;\">\n",
       "      <th></th>\n",
       "      <th>Year</th>\n",
       "      <th>Country</th>\n",
       "      <th>Immigrants</th>\n",
       "    </tr>\n",
       "  </thead>\n",
       "  <tbody>\n",
       "    <tr>\n",
       "      <th>0</th>\n",
       "      <td>1990</td>\n",
       "      <td>WORLD</td>\n",
       "      <td>152542373</td>\n",
       "    </tr>\n",
       "    <tr>\n",
       "      <th>1</th>\n",
       "      <td>1990</td>\n",
       "      <td>More developed regions</td>\n",
       "      <td>82391619</td>\n",
       "    </tr>\n",
       "    <tr>\n",
       "      <th>2</th>\n",
       "      <td>1990</td>\n",
       "      <td>Less developed regions</td>\n",
       "      <td>70150754</td>\n",
       "    </tr>\n",
       "  </tbody>\n",
       "</table>\n",
       "</div>"
      ],
      "text/plain": [
       "   Year                 Country Immigrants\n",
       "0  1990                   WORLD  152542373\n",
       "1  1990  More developed regions   82391619\n",
       "2  1990  Less developed regions   70150754"
      ]
     },
     "execution_count": 16,
     "metadata": {},
     "output_type": "execute_result"
    }
   ],
   "source": [
    "df_imm = pd.read_csv('immigration.csv')\n",
    "df_imm = df_imm[['Year', 'Country', 'Immigrants']]\n",
    "\n",
    "df_imm.head(3)"
   ]
  },
  {
   "cell_type": "code",
   "execution_count": 17,
   "metadata": {
    "collapsed": false
   },
   "outputs": [
    {
     "data": {
      "text/plain": [
       "(126575, 24)"
      ]
     },
     "execution_count": 17,
     "metadata": {},
     "output_type": "execute_result"
    }
   ],
   "source": [
    "df_unknowns_merge = pd.merge(left=df_unknowns_merge, right=df_imm, how='left', left_on=['iyear', 'country_txt'], right_on=['Year', 'Country'])\n",
    "df_unknowns_merge = df_unknowns_merge.drop(['Year', 'Country'], axis=1)\n",
    "df_unknowns_merge = df_unknowns_merge.drop_duplicates(subset='eventid')\n",
    "\n",
    "df_unknowns_merge['Immigrants'] = df_unknowns_merge['Immigrants'].convert_objects(convert_numeric=True)\n",
    "df_unknowns_merge['Immigrants'] = df_unknowns_merge.groupby(\"country\").Immigrants.transform(lambda x: x.fillna(x.mean()))\n",
    "\n",
    "df_unknowns_merge.shape"
   ]
  },
  {
   "cell_type": "code",
   "execution_count": 18,
   "metadata": {
    "collapsed": false
   },
   "outputs": [
    {
     "data": {
      "text/plain": [
       "(61670, 24)"
      ]
     },
     "execution_count": 18,
     "metadata": {},
     "output_type": "execute_result"
    }
   ],
   "source": [
    "df_merge = pd.merge(left=df_merge, right=df_imm, how='left', left_on=['iyear', 'country_txt'], right_on=['Year', 'Country'])\n",
    "df_merge = df_merge.drop(['Year', 'Country'], axis=1)\n",
    "df_merge = df_merge.drop_duplicates(subset='eventid')\n",
    "\n",
    "df_merge['Immigrants'] = df_merge['Immigrants'].convert_objects(convert_numeric=True)\n",
    "df_merge['Immigrants'] = df_merge.groupby(\"country\").Immigrants.transform(lambda x: x.fillna(x.mean()))\n",
    "\n",
    "df_merge.shape"
   ]
  },
  {
   "cell_type": "code",
   "execution_count": 19,
   "metadata": {
    "collapsed": false
   },
   "outputs": [
    {
     "data": {
      "text/html": [
       "<div>\n",
       "<table border=\"1\" class=\"dataframe\">\n",
       "  <thead>\n",
       "    <tr style=\"text-align: right;\">\n",
       "      <th></th>\n",
       "      <th>Country</th>\n",
       "      <th>Year</th>\n",
       "      <th>life_exp</th>\n",
       "    </tr>\n",
       "  </thead>\n",
       "  <tbody>\n",
       "    <tr>\n",
       "      <th>0</th>\n",
       "      <td>Aruba</td>\n",
       "      <td>1990</td>\n",
       "      <td>73.389976</td>\n",
       "    </tr>\n",
       "    <tr>\n",
       "      <th>1</th>\n",
       "      <td>Afghanistan</td>\n",
       "      <td>1990</td>\n",
       "      <td>49.857805</td>\n",
       "    </tr>\n",
       "    <tr>\n",
       "      <th>2</th>\n",
       "      <td>Angola</td>\n",
       "      <td>1990</td>\n",
       "      <td>41.669488</td>\n",
       "    </tr>\n",
       "  </tbody>\n",
       "</table>\n",
       "</div>"
      ],
      "text/plain": [
       "       Country  Year   life_exp\n",
       "0        Aruba  1990  73.389976\n",
       "1  Afghanistan  1990  49.857805\n",
       "2       Angola  1990  41.669488"
      ]
     },
     "execution_count": 19,
     "metadata": {},
     "output_type": "execute_result"
    }
   ],
   "source": [
    "df_life = pd.read_csv(\"life_expectancy.csv\")\n",
    "\n",
    "df_life = df_life.drop(['Country Code', 'Indicator Name', 'Indicator Code'], axis=1)\n",
    "df_life = pd.melt(df_life, id_vars=['Country'], value_vars=['1990', '1991', '1992', '1993', '1994', '1995', '1996', '1997', '1998', '1999', '2000', '2001', '2002', '2003', '2004', '2005', '2006', '2007', '2008', '2009', '2010', '2010', '2011', '2012', '2013', '2014', '2015', '2016'], var_name='Year', value_name='life_exp')\n",
    "\n",
    "df_life.to_csv(\"life_exp_melted.csv\", encoding='utf-8', index=False)\n",
    "df_life.head(3)"
   ]
  },
  {
   "cell_type": "code",
   "execution_count": 20,
   "metadata": {
    "collapsed": false
   },
   "outputs": [
    {
     "data": {
      "text/plain": [
       "(126575, 25)"
      ]
     },
     "execution_count": 20,
     "metadata": {},
     "output_type": "execute_result"
    }
   ],
   "source": [
    "df_life = pd.read_csv(\"life_exp_melted.csv\")\n",
    "\n",
    "df_unknowns_merge = pd.merge(left=df_unknowns_merge, right=df_life, how='left', left_on=['iyear','country_txt'], right_on=['Year', 'Country'])\n",
    "df_unknowns_merge = df_unknowns_merge.drop(['Country', 'Year'], axis=1)\n",
    "df_unknowns_merge = df_unknowns_merge.drop_duplicates(subset='eventid')\n",
    "\n",
    "df_unknowns_merge['life_exp'] = df_unknowns_merge['life_exp'].convert_objects(convert_numeric=True)\n",
    "df_unknowns_merge['life_exp'] = df_unknowns_merge.groupby('country').life_exp.transform(lambda x: x.fillna(x.mean()))\n",
    "\n",
    "df_unknowns_merge.shape"
   ]
  },
  {
   "cell_type": "code",
   "execution_count": 21,
   "metadata": {
    "collapsed": false
   },
   "outputs": [
    {
     "data": {
      "text/plain": [
       "(61670, 25)"
      ]
     },
     "execution_count": 21,
     "metadata": {},
     "output_type": "execute_result"
    }
   ],
   "source": [
    "df_life = pd.read_csv(\"life_exp_melted.csv\")\n",
    "\n",
    "df_merge = pd.merge(left=df_merge, right=df_life, how='left', left_on=['iyear','country_txt'], right_on=['Year', 'Country'])\n",
    "df_merge = df_merge.drop(['Country', 'Year'], axis=1)\n",
    "df_merge = df_merge.drop_duplicates(subset='eventid')\n",
    "\n",
    "df_merge['life_exp'] = df_merge['life_exp'].convert_objects(convert_numeric=True)\n",
    "df_merge['life_exp'] = df_merge.groupby('country').life_exp.transform(lambda x: x.fillna(x.mean()))\n",
    "\n",
    "df_merge.shape"
   ]
  },
  {
   "cell_type": "code",
   "execution_count": 22,
   "metadata": {
    "collapsed": false
   },
   "outputs": [
    {
     "data": {
      "text/html": [
       "<div>\n",
       "<table border=\"1\" class=\"dataframe\">\n",
       "  <thead>\n",
       "    <tr style=\"text-align: right;\">\n",
       "      <th></th>\n",
       "      <th>Country</th>\n",
       "      <th>Year</th>\n",
       "      <th>pop_den</th>\n",
       "    </tr>\n",
       "  </thead>\n",
       "  <tbody>\n",
       "    <tr>\n",
       "      <th>0</th>\n",
       "      <td>Aruba</td>\n",
       "      <td>1990</td>\n",
       "      <td>345.272222</td>\n",
       "    </tr>\n",
       "    <tr>\n",
       "      <th>1</th>\n",
       "      <td>Afghanistan</td>\n",
       "      <td>1990</td>\n",
       "      <td>18.762237</td>\n",
       "    </tr>\n",
       "    <tr>\n",
       "      <th>2</th>\n",
       "      <td>Angola</td>\n",
       "      <td>1990</td>\n",
       "      <td>9.762927</td>\n",
       "    </tr>\n",
       "  </tbody>\n",
       "</table>\n",
       "</div>"
      ],
      "text/plain": [
       "       Country  Year     pop_den\n",
       "0        Aruba  1990  345.272222\n",
       "1  Afghanistan  1990   18.762237\n",
       "2       Angola  1990    9.762927"
      ]
     },
     "execution_count": 22,
     "metadata": {},
     "output_type": "execute_result"
    }
   ],
   "source": [
    "df_pop = pd.read_csv(\"pop_density.csv\")\n",
    "\n",
    "df_pop = df_pop.drop(['Country Code', 'Indicator Name', 'Indicator Code'], axis=1)\n",
    "df_pop = pd.melt(df_pop, id_vars=['Country'], value_vars=['1990', '1991', '1992', '1993', '1994', '1995', '1996', '1997', '1998', '1999', '2000', '2001', '2002', '2003', '2004', '2005', '2006', '2007', '2008', '2009', '2010', '2010', '2011', '2012', '2013', '2014', '2015', '2016'], var_name='Year', value_name='pop_den')\n",
    "\n",
    "df_pop.to_csv(\"pop_den_melted.csv\", encoding='utf-8', index=False)\n",
    "df_pop.head(3)"
   ]
  },
  {
   "cell_type": "code",
   "execution_count": 23,
   "metadata": {
    "collapsed": false
   },
   "outputs": [
    {
     "data": {
      "text/plain": [
       "(126575, 26)"
      ]
     },
     "execution_count": 23,
     "metadata": {},
     "output_type": "execute_result"
    }
   ],
   "source": [
    "df_pop = pd.read_csv(\"pop_den_melted.csv\")\n",
    "\n",
    "df_unknowns_merge = pd.merge(left=df_unknowns_merge, right=df_pop, how='left', left_on=['iyear','country_txt'], right_on=['Year', 'Country'])\n",
    "df_unknowns_merge = df_unknowns_merge.drop(['Country', 'Year'], axis=1)\n",
    "df_unknowns_merge = df_unknowns_merge.drop_duplicates(subset='eventid')\n",
    "\n",
    "df_unknowns_merge['pop_den'] = df_unknowns_merge['pop_den'].convert_objects(convert_numeric=True)\n",
    "df_unknowns_merge['pop_den'] = df_unknowns_merge.groupby('country').pop_den.transform(lambda x: x.fillna(x.mean()))\n",
    "\n",
    "df_unknowns_merge.shape"
   ]
  },
  {
   "cell_type": "code",
   "execution_count": 24,
   "metadata": {
    "collapsed": false
   },
   "outputs": [
    {
     "data": {
      "text/plain": [
       "(61670, 26)"
      ]
     },
     "execution_count": 24,
     "metadata": {},
     "output_type": "execute_result"
    }
   ],
   "source": [
    "df_pop = pd.read_csv(\"pop_den_melted.csv\")\n",
    "\n",
    "df_merge = pd.merge(left=df_merge, right=df_pop, how='left', left_on=['iyear','country_txt'], right_on=['Year', 'Country'])\n",
    "df_merge = df_merge.drop(['Country', 'Year'], axis=1)\n",
    "df_merge = df_merge.drop_duplicates(subset='eventid')\n",
    "\n",
    "df_merge['pop_den'] = df_merge['pop_den'].convert_objects(convert_numeric=True)\n",
    "df_merge['pop_den'] = df_merge.groupby('country').pop_den.transform(lambda x: x.fillna(x.mean()))\n",
    "\n",
    "df_merge.shape"
   ]
  },
  {
   "cell_type": "code",
   "execution_count": 25,
   "metadata": {
    "collapsed": false
   },
   "outputs": [
    {
     "data": {
      "text/html": [
       "<div>\n",
       "<table border=\"1\" class=\"dataframe\">\n",
       "  <thead>\n",
       "    <tr style=\"text-align: right;\">\n",
       "      <th></th>\n",
       "      <th>Country</th>\n",
       "      <th>Year</th>\n",
       "      <th>Value</th>\n",
       "    </tr>\n",
       "  </thead>\n",
       "  <tbody>\n",
       "    <tr>\n",
       "      <th>0</th>\n",
       "      <td>Albania</td>\n",
       "      <td>2012</td>\n",
       "      <td>0.10</td>\n",
       "    </tr>\n",
       "    <tr>\n",
       "      <th>1</th>\n",
       "      <td>Albania</td>\n",
       "      <td>2008</td>\n",
       "      <td>0.03</td>\n",
       "    </tr>\n",
       "    <tr>\n",
       "      <th>2</th>\n",
       "      <td>Albania</td>\n",
       "      <td>2005</td>\n",
       "      <td>0.08</td>\n",
       "    </tr>\n",
       "  </tbody>\n",
       "</table>\n",
       "</div>"
      ],
      "text/plain": [
       "   Country  Year  Value\n",
       "0  Albania  2012   0.10\n",
       "1  Albania  2008   0.03\n",
       "2  Albania  2005   0.08"
      ]
     },
     "execution_count": 25,
     "metadata": {},
     "output_type": "execute_result"
    }
   ],
   "source": [
    "df_pov = pd.read_csv(\"poverty_gap.csv\")\n",
    "df_pov = df_pov.drop(['Value Footnotes'], axis=1)\n",
    "\n",
    "df_pov.head(3)"
   ]
  },
  {
   "cell_type": "code",
   "execution_count": 26,
   "metadata": {
    "collapsed": false
   },
   "outputs": [
    {
     "data": {
      "text/plain": [
       "(126575, 27)"
      ]
     },
     "execution_count": 26,
     "metadata": {},
     "output_type": "execute_result"
    }
   ],
   "source": [
    "df_unknowns_merge = pd.merge(left=df_unknowns_merge, right=df_pov, how='left', left_on=['iyear','country_txt'], right_on=['Year', 'Country'])\n",
    "df_unknowns_merge = df_unknowns_merge.drop(['Country', 'Year'], axis=1)\n",
    "df_unknowns_merge = df_unknowns_merge.drop_duplicates(subset='eventid')\n",
    "\n",
    "df_unknowns_merge['Value'] = df_unknowns_merge['Value'].convert_objects(convert_numeric=True)\n",
    "df_unknowns_merge['Value'] = df_unknowns_merge.groupby('country').Value.transform(lambda x: x.fillna(x.mean()))\n",
    "df_unknowns_merge = df_unknowns_merge.fillna(value = {'Value': 0})\n",
    "\n",
    "df_unknowns_merge.shape"
   ]
  },
  {
   "cell_type": "code",
   "execution_count": 27,
   "metadata": {
    "collapsed": false
   },
   "outputs": [
    {
     "data": {
      "text/plain": [
       "(61670, 27)"
      ]
     },
     "execution_count": 27,
     "metadata": {},
     "output_type": "execute_result"
    }
   ],
   "source": [
    "df_merge = pd.merge(left=df_merge, right=df_pov, how='left', left_on=['iyear','country_txt'], right_on=['Year', 'Country'])\n",
    "df_merge = df_merge.drop(['Country', 'Year'], axis=1)\n",
    "df_merge = df_merge.drop_duplicates(subset='eventid')\n",
    "\n",
    "df_merge['Value'] = df_merge['Value'].convert_objects(convert_numeric=True)\n",
    "df_merge['Value'] = df_merge.groupby('country').Value.transform(lambda x: x.fillna(x.mean()))\n",
    "df_merge = df_merge.fillna(value = {'Value': 0})\n",
    "\n",
    "df_merge.shape"
   ]
  },
  {
   "cell_type": "code",
   "execution_count": 28,
   "metadata": {
    "collapsed": false
   },
   "outputs": [
    {
     "data": {
      "text/html": [
       "<div>\n",
       "<table border=\"1\" class=\"dataframe\">\n",
       "  <thead>\n",
       "    <tr style=\"text-align: right;\">\n",
       "      <th></th>\n",
       "      <th>Country</th>\n",
       "      <th>Year</th>\n",
       "      <th>refugees</th>\n",
       "    </tr>\n",
       "  </thead>\n",
       "  <tbody>\n",
       "    <tr>\n",
       "      <th>0</th>\n",
       "      <td>Aruba</td>\n",
       "      <td>1990</td>\n",
       "      <td>NaN</td>\n",
       "    </tr>\n",
       "    <tr>\n",
       "      <th>1</th>\n",
       "      <td>Afghanistan</td>\n",
       "      <td>1990</td>\n",
       "      <td>50.0</td>\n",
       "    </tr>\n",
       "    <tr>\n",
       "      <th>2</th>\n",
       "      <td>Angola</td>\n",
       "      <td>1990</td>\n",
       "      <td>11557.0</td>\n",
       "    </tr>\n",
       "  </tbody>\n",
       "</table>\n",
       "</div>"
      ],
      "text/plain": [
       "       Country  Year  refugees\n",
       "0        Aruba  1990       NaN\n",
       "1  Afghanistan  1990      50.0\n",
       "2       Angola  1990   11557.0"
      ]
     },
     "execution_count": 28,
     "metadata": {},
     "output_type": "execute_result"
    }
   ],
   "source": [
    "df_ref = pd.read_csv(\"refugees.csv\")\n",
    "\n",
    "df_ref = df_ref.drop(['Country Code', 'Indicator Name', 'Indicator Code'], axis=1)\n",
    "df_ref = pd.melt(df_ref, id_vars=['Country'], value_vars=['1990', '1991', '1992', '1993', '1994', '1995', '1996', '1997', '1998', '1999', '2000', '2001', '2002', '2003', '2004', '2005', '2006', '2007', '2008', '2009', '2010', '2010', '2011', '2012', '2013', '2014', '2015', '2016'], var_name='Year', value_name='refugees')\n",
    "\n",
    "df_ref.to_csv(\"ref_melted.csv\", encoding='utf-8', index=False)\n",
    "df_ref.head(3)"
   ]
  },
  {
   "cell_type": "code",
   "execution_count": 29,
   "metadata": {
    "collapsed": false
   },
   "outputs": [
    {
     "data": {
      "text/plain": [
       "(126575, 28)"
      ]
     },
     "execution_count": 29,
     "metadata": {},
     "output_type": "execute_result"
    }
   ],
   "source": [
    "df_ref = pd.read_csv(\"ref_melted.csv\")\n",
    "\n",
    "df_unknowns_merge = pd.merge(left=df_unknowns_merge, right=df_ref, how='left', left_on=['iyear','country_txt'], right_on=['Year', 'Country'])\n",
    "df_unknowns_merge = df_unknowns_merge.drop(['Country', 'Year'], axis=1)\n",
    "df_unknowns_merge = df_unknowns_merge.drop_duplicates(subset='eventid')\n",
    "\n",
    "df_unknowns_merge['refugees'] = df_unknowns_merge['refugees'].convert_objects(convert_numeric=True)\n",
    "df_unknowns_merge['refugees'] = df_unknowns_merge.groupby('country').refugees.transform(lambda x: x.fillna(x.mean()))\n",
    "\n",
    "df_unknowns_merge.shape"
   ]
  },
  {
   "cell_type": "code",
   "execution_count": 30,
   "metadata": {
    "collapsed": false
   },
   "outputs": [
    {
     "data": {
      "text/plain": [
       "(61670, 28)"
      ]
     },
     "execution_count": 30,
     "metadata": {},
     "output_type": "execute_result"
    }
   ],
   "source": [
    "df_ref = pd.read_csv(\"ref_melted.csv\")\n",
    "\n",
    "df_merge = pd.merge(left=df_merge, right=df_ref, how='left', left_on=['iyear','country_txt'], right_on=['Year', 'Country'])\n",
    "df_merge = df_merge.drop(['Country', 'Year'], axis=1)\n",
    "df_merge = df_merge.drop_duplicates(subset='eventid')\n",
    "\n",
    "df_merge['refugees'] = df_merge['refugees'].convert_objects(convert_numeric=True)\n",
    "df_merge['refugees'] = df_merge.groupby('country').refugees.transform(lambda x: x.fillna(x.mean()))\n",
    "\n",
    "df_merge.shape"
   ]
  },
  {
   "cell_type": "code",
   "execution_count": 31,
   "metadata": {
    "collapsed": false
   },
   "outputs": [
    {
     "data": {
      "text/html": [
       "<div>\n",
       "<table border=\"1\" class=\"dataframe\">\n",
       "  <thead>\n",
       "    <tr style=\"text-align: right;\">\n",
       "      <th></th>\n",
       "      <th>Country</th>\n",
       "      <th>Year</th>\n",
       "      <th>primary_enroll</th>\n",
       "    </tr>\n",
       "  </thead>\n",
       "  <tbody>\n",
       "    <tr>\n",
       "      <th>0</th>\n",
       "      <td>Aruba</td>\n",
       "      <td>1990</td>\n",
       "      <td>NaN</td>\n",
       "    </tr>\n",
       "    <tr>\n",
       "      <th>1</th>\n",
       "      <td>Afghanistan</td>\n",
       "      <td>1990</td>\n",
       "      <td>30.091150</td>\n",
       "    </tr>\n",
       "    <tr>\n",
       "      <th>2</th>\n",
       "      <td>Angola</td>\n",
       "      <td>1990</td>\n",
       "      <td>78.258499</td>\n",
       "    </tr>\n",
       "  </tbody>\n",
       "</table>\n",
       "</div>"
      ],
      "text/plain": [
       "       Country  Year  primary_enroll\n",
       "0        Aruba  1990             NaN\n",
       "1  Afghanistan  1990       30.091150\n",
       "2       Angola  1990       78.258499"
      ]
     },
     "execution_count": 31,
     "metadata": {},
     "output_type": "execute_result"
    }
   ],
   "source": [
    "df_sch = pd.read_csv(\"school_enroll_primary.csv\")\n",
    "\n",
    "df_sch = df_sch.drop(['Country Code', 'Indicator Name', 'Indicator Code'], axis=1)\n",
    "df_sch = pd.melt(df_sch, id_vars=['Country'], value_vars=['1990', '1991', '1992', '1993', '1994', '1995', '1996', '1997', '1998', '1999', '2000', '2001', '2002', '2003', '2004', '2005', '2006', '2007', '2008', '2009', '2010', '2010', '2011', '2012', '2013', '2014', '2015', '2016'], var_name='Year', value_name='primary_enroll')\n",
    "\n",
    "df_sch.to_csv(\"school_melted.csv\", encoding='utf-8', index=False)\n",
    "df_sch.head(3)"
   ]
  },
  {
   "cell_type": "code",
   "execution_count": 32,
   "metadata": {
    "collapsed": false
   },
   "outputs": [
    {
     "data": {
      "text/plain": [
       "(126575, 29)"
      ]
     },
     "execution_count": 32,
     "metadata": {},
     "output_type": "execute_result"
    }
   ],
   "source": [
    "df_sch = pd.read_csv(\"school_melted.csv\")\n",
    "\n",
    "df_unknowns_merge = pd.merge(left=df_unknowns_merge, right=df_sch, how='left', left_on=['iyear','country_txt'], right_on=['Year', 'Country'])\n",
    "df_unknowns_merge = df_unknowns_merge.drop(['Country', 'Year'], axis=1)\n",
    "df_unknowns_merge = df_unknowns_merge.drop_duplicates(subset='eventid')\n",
    "\n",
    "df_unknowns_merge['primary_enroll'] = df_unknowns_merge['primary_enroll'].convert_objects(convert_numeric=True)\n",
    "df_unknowns_merge['primary_enroll'] = df_unknowns_merge.groupby('country').primary_enroll.transform(lambda x: x.fillna(x.mean()))\n",
    "\n",
    "df_unknowns_merge.shape"
   ]
  },
  {
   "cell_type": "code",
   "execution_count": 33,
   "metadata": {
    "collapsed": false
   },
   "outputs": [
    {
     "data": {
      "text/plain": [
       "(61670, 29)"
      ]
     },
     "execution_count": 33,
     "metadata": {},
     "output_type": "execute_result"
    }
   ],
   "source": [
    "df_sch = pd.read_csv(\"school_melted.csv\")\n",
    "\n",
    "df_merge = pd.merge(left=df_merge, right=df_sch, how='left', left_on=['iyear','country_txt'], right_on=['Year', 'Country'])\n",
    "df_merge = df_merge.drop(['Country', 'Year'], axis=1)\n",
    "df_merge = df_merge.drop_duplicates(subset='eventid')\n",
    "\n",
    "df_merge['primary_enroll'] = df_merge['primary_enroll'].convert_objects(convert_numeric=True)\n",
    "df_merge['primary_enroll'] = df_merge.groupby('country').primary_enroll.transform(lambda x: x.fillna(x.mean()))\n",
    "\n",
    "df_merge.shape"
   ]
  },
  {
   "cell_type": "code",
   "execution_count": 34,
   "metadata": {
    "collapsed": true
   },
   "outputs": [],
   "source": [
    "df_unknowns_merge.rename(columns={'best_fatality_estimate':'gov_conf', 'Immigrants':'immigrants', 'Value':'pov_gap'}, inplace=True)\n",
    "#df_merge = df_merge.drop(['eventid'], axis=1)\n",
    "df_unknowns_merge = df_unknowns_merge.dropna(axis=0, how='any')\n",
    "\n",
    "df_unknowns_merge.to_csv(\"qfactors_terrorism_unknowns.csv\", encoding='utf-8', index=False)"
   ]
  },
  {
   "cell_type": "code",
   "execution_count": 35,
   "metadata": {
    "collapsed": false
   },
   "outputs": [],
   "source": [
    "df_merge.rename(columns={'best_fatality_estimate':'gov_conf', 'Immigrants':'immigrants', 'Value':'pov_gap'}, inplace=True)\n",
    "#df_merge = df_merge.drop(['eventid'], axis=1)\n",
    "df_merge = df_merge.dropna(axis=0, how='any')\n",
    "\n",
    "df_merge.to_csv(\"qfactors_terrorism.csv\", encoding='utf-8', index=False)"
   ]
  }
 ],
 "metadata": {
  "kernelspec": {
   "display_name": "Python 3",
   "language": "python",
   "name": "python3"
  },
  "language_info": {
   "codemirror_mode": {
    "name": "ipython",
    "version": 3
   },
   "file_extension": ".py",
   "mimetype": "text/x-python",
   "name": "python",
   "nbconvert_exporter": "python",
   "pygments_lexer": "ipython3",
   "version": "3.5.4"
  }
 },
 "nbformat": 4,
 "nbformat_minor": 0
}
