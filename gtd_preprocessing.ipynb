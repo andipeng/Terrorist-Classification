{
 "cells": [
  {
   "cell_type": "code",
   "execution_count": 1,
   "metadata": {
    "collapsed": false
   },
   "outputs": [],
   "source": [
    "%matplotlib inline\n",
    "import numpy as np\n",
    "import pandas as pd\n",
    "import matplotlib.pyplot as plt\n",
    "import squarify\n",
    "from scipy.stats import norm\n",
    "from scipy import stats\n",
    "from collections import Counter\n",
    "import seaborn as sns\n",
    "\n",
    "from sklearn import preprocessing\n",
    "from sklearn.preprocessing import StandardScaler\n",
    "\n",
    "import warnings\n",
    "warnings.filterwarnings(\"ignore\")"
   ]
  },
  {
   "cell_type": "code",
   "execution_count": 2,
   "metadata": {
    "collapsed": true
   },
   "outputs": [],
   "source": [
    "# reads in full 1970-2016 Global Terrorism Database (GTD)\n",
    "df = pd.read_csv(\"gtd_full.csv\")"
   ]
  },
  {
   "cell_type": "code",
   "execution_count": 3,
   "metadata": {
    "collapsed": false
   },
   "outputs": [
    {
     "data": {
      "text/html": [
       "<div>\n",
       "<table border=\"1\" class=\"dataframe\">\n",
       "  <thead>\n",
       "    <tr style=\"text-align: right;\">\n",
       "      <th></th>\n",
       "      <th>eventid</th>\n",
       "      <th>gname</th>\n",
       "      <th>iyear</th>\n",
       "      <th>extended</th>\n",
       "      <th>country</th>\n",
       "      <th>country_txt</th>\n",
       "      <th>city</th>\n",
       "      <th>latitude</th>\n",
       "      <th>longitude</th>\n",
       "      <th>success</th>\n",
       "      <th>suicide</th>\n",
       "      <th>attacktype1</th>\n",
       "      <th>targtype1</th>\n",
       "      <th>targsubtype1</th>\n",
       "      <th>natlty1</th>\n",
       "      <th>individual</th>\n",
       "      <th>weaptype1</th>\n",
       "      <th>weapsubtype1</th>\n",
       "      <th>nkill</th>\n",
       "    </tr>\n",
       "  </thead>\n",
       "  <tbody>\n",
       "    <tr>\n",
       "      <th>0</th>\n",
       "      <td>197000000001</td>\n",
       "      <td>MANO-D</td>\n",
       "      <td>1970</td>\n",
       "      <td>0</td>\n",
       "      <td>58</td>\n",
       "      <td>Dominican Republic</td>\n",
       "      <td>Santo Domingo</td>\n",
       "      <td>18.456792</td>\n",
       "      <td>-69.951164</td>\n",
       "      <td>1</td>\n",
       "      <td>0</td>\n",
       "      <td>1</td>\n",
       "      <td>14</td>\n",
       "      <td>68.0</td>\n",
       "      <td>58.0</td>\n",
       "      <td>0</td>\n",
       "      <td>13</td>\n",
       "      <td>NaN</td>\n",
       "      <td>1.0</td>\n",
       "    </tr>\n",
       "    <tr>\n",
       "      <th>1</th>\n",
       "      <td>197000000002</td>\n",
       "      <td>23rd of September Communist League</td>\n",
       "      <td>1970</td>\n",
       "      <td>0</td>\n",
       "      <td>130</td>\n",
       "      <td>Mexico</td>\n",
       "      <td>Mexico city</td>\n",
       "      <td>19.432608</td>\n",
       "      <td>-99.133207</td>\n",
       "      <td>1</td>\n",
       "      <td>0</td>\n",
       "      <td>6</td>\n",
       "      <td>7</td>\n",
       "      <td>45.0</td>\n",
       "      <td>21.0</td>\n",
       "      <td>0</td>\n",
       "      <td>13</td>\n",
       "      <td>NaN</td>\n",
       "      <td>0.0</td>\n",
       "    </tr>\n",
       "    <tr>\n",
       "      <th>2</th>\n",
       "      <td>197001000001</td>\n",
       "      <td>Unknown</td>\n",
       "      <td>1970</td>\n",
       "      <td>0</td>\n",
       "      <td>160</td>\n",
       "      <td>Philippines</td>\n",
       "      <td>Unknown</td>\n",
       "      <td>15.478598</td>\n",
       "      <td>120.599741</td>\n",
       "      <td>1</td>\n",
       "      <td>0</td>\n",
       "      <td>1</td>\n",
       "      <td>10</td>\n",
       "      <td>54.0</td>\n",
       "      <td>217.0</td>\n",
       "      <td>0</td>\n",
       "      <td>13</td>\n",
       "      <td>NaN</td>\n",
       "      <td>1.0</td>\n",
       "    </tr>\n",
       "  </tbody>\n",
       "</table>\n",
       "</div>"
      ],
      "text/plain": [
       "        eventid                               gname  iyear  extended  country  \\\n",
       "0  197000000001                              MANO-D   1970         0       58   \n",
       "1  197000000002  23rd of September Communist League   1970         0      130   \n",
       "2  197001000001                             Unknown   1970         0      160   \n",
       "\n",
       "          country_txt           city   latitude   longitude  success  suicide  \\\n",
       "0  Dominican Republic  Santo Domingo  18.456792  -69.951164        1        0   \n",
       "1              Mexico    Mexico city  19.432608  -99.133207        1        0   \n",
       "2         Philippines        Unknown  15.478598  120.599741        1        0   \n",
       "\n",
       "   attacktype1  targtype1  targsubtype1  natlty1  individual  weaptype1  \\\n",
       "0            1         14          68.0     58.0           0         13   \n",
       "1            6          7          45.0     21.0           0         13   \n",
       "2            1         10          54.0    217.0           0         13   \n",
       "\n",
       "   weapsubtype1  nkill  \n",
       "0           NaN    1.0  \n",
       "1           NaN    0.0  \n",
       "2           NaN    1.0  "
      ]
     },
     "execution_count": 3,
     "metadata": {},
     "output_type": "execute_result"
    }
   ],
   "source": [
    "# retains expected relevant features from observations between 1990-2016\n",
    "#df = df[((df['iyear']) > 1989) & (df['iyear'] < 2017)]\n",
    "features = ['eventid', 'gname', 'iyear', 'extended', 'country', 'country_txt', 'city', 'latitude', 'longitude', 'success', 'suicide', 'attacktype1', 'targtype1', 'targsubtype1', 'natlty1', 'individual', 'weaptype1', 'weapsubtype1', 'nkill']\n",
    "df = df[features]\n",
    "df.head(3)"
   ]
  },
  {
   "cell_type": "code",
   "execution_count": 4,
   "metadata": {
    "collapsed": false
   },
   "outputs": [
    {
     "data": {
      "text/plain": [
       "(170350, 19)"
      ]
     },
     "execution_count": 4,
     "metadata": {},
     "output_type": "execute_result"
    }
   ],
   "source": [
    "# fills missing values: categorical variables default 0 (or unknown), continuous variables with mean\n",
    "df['extended'].fillna(0, inplace=True)\n",
    "df['success'].fillna(0, inplace=True)\n",
    "df['suicide'].fillna(0, inplace=True)\n",
    "df['attacktype1'].fillna(9, inplace=True)\n",
    "df['targtype1'].fillna(20, inplace=True)\n",
    "df['targsubtype1'].fillna(112, inplace=True)\n",
    "df['natlty1'].fillna(1005, inplace=True)\n",
    "df['weaptype1'].fillna(13, inplace=True)\n",
    "df['weapsubtype1'].fillna(27, inplace=True)\n",
    "df['nkill'].fillna((df['nkill'].mean()), inplace=True)\n",
    "\n",
    "df.shape"
   ]
  },
  {
   "cell_type": "code",
   "execution_count": 5,
   "metadata": {
    "collapsed": false
   },
   "outputs": [
    {
     "data": {
      "text/plain": [
       "<matplotlib.axes._subplots.AxesSubplot at 0x10e9e26d8>"
      ]
     },
     "execution_count": 5,
     "metadata": {},
     "output_type": "execute_result"
    },
    {
     "data": {
      "image/png": "[encoded data removed]",
      "text/plain": [
       "<matplotlib.figure.Figure at 0x10e9e2400>"
      ]
     },
     "metadata": {},
     "output_type": "display_data"
    }
   ],
   "source": [
    "corr_matrix = df.corr()\n",
    "\n",
    "# Generate a mask for the upper triangle\n",
    "mask = np.zeros_like(corr_matrix, dtype=np.bool)\n",
    "mask[np.triu_indices_from(mask)] = True\n",
    "\n",
    "f, ax = plt.subplots(figsize=(10, 10))\n",
    "\n",
    "sns.heatmap(corr_matrix, mask=mask, vmax=.3, square=True)"
   ]
  },
  {
   "cell_type": "code",
   "execution_count": 6,
   "metadata": {
    "collapsed": false
   },
   "outputs": [
    {
     "data": {
      "text/plain": [
       "(92044, 19)"
      ]
     },
     "execution_count": 6,
     "metadata": {},
     "output_type": "execute_result"
    }
   ],
   "source": [
    "df_unknowns = df\n",
    "df = df[df['gname'] != 'Unknown']\n",
    "df_unknowns.shape\n",
    "df.shape"
   ]
  },
  {
   "cell_type": "code",
   "execution_count": 7,
   "metadata": {
    "collapsed": false
   },
   "outputs": [
    {
     "name": "stdout",
     "output_type": "stream",
     "text": [
      "Number of terrorist groups: 3454\n",
      "Most common group observed: Unknown = 45.97%\n"
     ]
    },
    {
     "data": {
      "text/plain": [
       "[('Unknown', 78306),\n",
       " ('Taliban', 6575),\n",
       " ('Shining Path (SL)', 4551),\n",
       " ('Islamic State of Iraq and the Levant (ISIL)', 4287),\n",
       " ('Farabundo Marti National Liberation Front (FMLN)', 3351),\n",
       " ('Al-Shabaab', 2683),\n",
       " ('Irish Republican Army (IRA)', 2669),\n",
       " ('Revolutionary Armed Forces of Colombia (FARC)', 2481),\n",
       " (\"New People's Army (NPA)\", 2414),\n",
       " (\"Kurdistan Workers' Party (PKK)\", 2152)]"
      ]
     },
     "execution_count": 7,
     "metadata": {},
     "output_type": "execute_result"
    }
   ],
   "source": [
    "# examines our target variable\n",
    "target = df_unknowns['gname']\n",
    "\n",
    "count = Counter(target)\n",
    "print('Number of terrorist groups: {}'.format(len(count)))\n",
    "\n",
    "high = count.most_common(1)[0]\n",
    "print('Most common group observed: {} = {:.2f}%'.format(high[0], 100 * high[1] / target.size))\n",
    "count.most_common(10)"
   ]
  },
  {
   "cell_type": "code",
   "execution_count": 8,
   "metadata": {
    "collapsed": false
   },
   "outputs": [
    {
     "name": "stdout",
     "output_type": "stream",
     "text": [
      "Number of terrorist groups: 3453\n",
      "Most common group observed: Taliban = 7.14%\n"
     ]
    },
    {
     "data": {
      "text/plain": [
       "[('Taliban', 6575),\n",
       " ('Shining Path (SL)', 4551),\n",
       " ('Islamic State of Iraq and the Levant (ISIL)', 4287),\n",
       " ('Farabundo Marti National Liberation Front (FMLN)', 3351),\n",
       " ('Al-Shabaab', 2683),\n",
       " ('Irish Republican Army (IRA)', 2669),\n",
       " ('Revolutionary Armed Forces of Colombia (FARC)', 2481),\n",
       " (\"New People's Army (NPA)\", 2414),\n",
       " (\"Kurdistan Workers' Party (PKK)\", 2152),\n",
       " ('Boko Haram', 2077)]"
      ]
     },
     "execution_count": 8,
     "metadata": {},
     "output_type": "execute_result"
    }
   ],
   "source": [
    "# examines our target variable\n",
    "target = df['gname']\n",
    "\n",
    "count = Counter(target)\n",
    "print('Number of terrorist groups: {}'.format(len(count)))\n",
    "\n",
    "high = count.most_common(1)[0]\n",
    "print('Most common group observed: {} = {:.2f}%'.format(high[0], 100 * high[1] / target.size))\n",
    "count.most_common(10)"
   ]
  },
  {
   "cell_type": "code",
   "execution_count": 9,
   "metadata": {
    "collapsed": true
   },
   "outputs": [],
   "source": [
    "#df.apply(preprocessing.LabelEncoder().fit_transform);\n",
    "df_unknowns = df_unknowns.dropna(axis=0, how='any')\n",
    "df_unknowns.to_csv(\"gtd_unknowns_processed.csv\", encoding='utf-8', index=False)"
   ]
  },
  {
   "cell_type": "code",
   "execution_count": 10,
   "metadata": {
    "collapsed": false
   },
   "outputs": [],
   "source": [
    "#df.apply(preprocessing.LabelEncoder().fit_transform);\n",
    "df = df.dropna(axis=0, how='any')\n",
    "df.to_csv(\"gtd_processed.csv\", encoding='utf-8', index=False)"
   ]
  }
 ],
 "metadata": {
  "kernelspec": {
   "display_name": "Python 3",
   "language": "python",
   "name": "python3"
  },
  "language_info": {
   "codemirror_mode": {
    "name": "ipython",
    "version": 3
   },
   "file_extension": ".py",
   "mimetype": "text/x-python",
   "name": "python",
   "nbconvert_exporter": "python",
   "pygments_lexer": "ipython3",
   "version": "3.5.4"
  }
 },
 "nbformat": 4,
 "nbformat_minor": 0
}
